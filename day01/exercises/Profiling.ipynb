{
 "cells": [
  {
   "cell_type": "markdown",
   "metadata": {},
   "source": [
    "## Exercise 1:\n",
    "\n",
    "- Profile the functions above, and explain the output\n",
    "- Propose an optimised version"
   ]
  },
  {
   "cell_type": "code",
   "execution_count": 36,
   "metadata": {},
   "outputs": [],
   "source": [
    "import random\n",
    "random.seed(40)\n",
    "def sort_list(n):\n",
    "\t# Generate a list of n random integers\n",
    "\tlst = [random.randint(0, 10000) for _ in range(n)]\n",
    "\t\n",
    "\t# Sort the list\n",
    "\tlst.sort()\n",
    "\t\n",
    "\treturn lst"
   ]
  },
  {
   "cell_type": "code",
   "execution_count": 37,
   "metadata": {},
   "outputs": [
    {
     "name": "stdout",
     "output_type": "stream",
     "text": [
      "13.9 ms ± 1.1 ms per loop (mean ± std. dev. of 7 runs, 100 loops each)\n"
     ]
    }
   ],
   "source": [
    "import timeit\n",
    "%timeit sort_list(10000)"
   ]
  },
  {
   "cell_type": "raw",
   "metadata": {},
   "source": [
    "L'output nous montre que sur 7 executions de 100 boucles le temps ecoulé pour executé la fonction est de 11,9 millisecondes et l'ecart type est de 60,3 microsecondes"
   ]
  },
  {
   "cell_type": "code",
   "execution_count": 39,
   "metadata": {},
   "outputs": [
    {
     "name": "stdout",
     "output_type": "stream",
     "text": [
      "11.9 ms ± 51.3 µs per loop (mean ± std. dev. of 7 runs, 100 loops each)\n"
     ]
    }
   ],
   "source": [
    "def sort_list_1(n):\n",
    "\t# Generate a list of n random integers\n",
    "    lst = [random.randint(0, 10000) for _ in range(n)]\n",
    "    lst = sorted(lst)\n",
    "    return lst\n",
    "\n",
    "%timeit sort_list_1(10000)"
   ]
  },
  {
   "cell_type": "code",
   "execution_count": 24,
   "metadata": {},
   "outputs": [],
   "source": [
    "def fibonacci(n):\n",
    "\tif n <= 0:\n",
    "\t\treturn 0\n",
    "\telif n == 1:\n",
    "\t\treturn 1\n",
    "\telse:\n",
    "\t\treturn fibonacci(n-1) + fibonacci(n-2)"
   ]
  },
  {
   "cell_type": "code",
   "execution_count": 32,
   "metadata": {},
   "outputs": [
    {
     "name": "stdout",
     "output_type": "stream",
     "text": [
      "         2692540 function calls (4 primitive calls) in 0.549 seconds\n",
      "\n",
      "   Ordered by: standard name\n",
      "\n",
      "   ncalls  tottime  percall  cumtime  percall filename:lineno(function)\n",
      "2692537/1    0.549    0.000    0.549    0.549 <ipython-input-24-9aa77cdeb758>:1(fibonacci)\n",
      "        1    0.000    0.000    0.549    0.549 <string>:1(<module>)\n",
      "        1    0.000    0.000    0.549    0.549 {built-in method builtins.exec}\n",
      "        1    0.000    0.000    0.000    0.000 {method 'disable' of '_lsprof.Profiler' objects}\n",
      "\n",
      "\n"
     ]
    }
   ],
   "source": [
    "import cProfile\n",
    "cProfile.run('fibonacci(30)')"
   ]
  },
  {
   "cell_type": "code",
   "execution_count": 44,
   "metadata": {},
   "outputs": [
    {
     "data": {
      "text/plain": [
       "832040"
      ]
     },
     "execution_count": 44,
     "metadata": {},
     "output_type": "execute_result"
    }
   ],
   "source": [
    "def fibonacci_1(n):\n",
    "    a, b = 0, 1\n",
    "    for i in range(n):\n",
    "        a, b = b, a + b\n",
    "    return a\n",
    "\n",
    "fibonacci(30)"
   ]
  },
  {
   "cell_type": "code",
   "execution_count": 45,
   "metadata": {},
   "outputs": [
    {
     "data": {
      "text/plain": [
       "832040"
      ]
     },
     "execution_count": 45,
     "metadata": {},
     "output_type": "execute_result"
    }
   ],
   "source": [
    "fibonacci_1(30)"
   ]
  },
  {
   "cell_type": "code",
   "execution_count": 51,
   "metadata": {},
   "outputs": [
    {
     "name": "stdout",
     "output_type": "stream",
     "text": [
      "         4 function calls in 0.000 seconds\n",
      "\n",
      "   Ordered by: standard name\n",
      "\n",
      "   ncalls  tottime  percall  cumtime  percall filename:lineno(function)\n",
      "        1    0.000    0.000    0.000    0.000 <ipython-input-44-211919855375>:1(fibonacci_1)\n",
      "        1    0.000    0.000    0.000    0.000 <string>:1(<module>)\n",
      "        1    0.000    0.000    0.000    0.000 {built-in method builtins.exec}\n",
      "        1    0.000    0.000    0.000    0.000 {method 'disable' of '_lsprof.Profiler' objects}\n",
      "\n",
      "\n"
     ]
    }
   ],
   "source": [
    "cProfile.run('fibonacci_1(30)')"
   ]
  },
  {
   "cell_type": "code",
   "execution_count": 74,
   "metadata": {},
   "outputs": [],
   "source": [
    "def bubble_sort(arr):\n",
    "    n = len(arr)\n",
    "    for i in range(n):\n",
    "        for j in range(0, n-i-1):\n",
    "            if arr[j] > arr[j+1] :\n",
    "                arr[j], arr[j+1] = arr[j+1], arr[j]"
   ]
  },
  {
   "cell_type": "code",
   "execution_count": 75,
   "metadata": {},
   "outputs": [
    {
     "name": "stdout",
     "output_type": "stream",
     "text": [
      "2.01 µs ± 254 ns per loop (mean ± std. dev. of 7 runs, 100000 loops each)\n"
     ]
    }
   ],
   "source": [
    "arr = [7, 4, 2, 5]\n",
    "%timeit bubble_sort(arr)"
   ]
  },
  {
   "cell_type": "code",
   "execution_count": 76,
   "metadata": {},
   "outputs": [],
   "source": [
    "def bubble_sort_1(arr):\n",
    "    n = len(arr)\n",
    "    for i in range(n):\n",
    "        b = arr[i]\n",
    "        j = i - 1\n",
    "        while j >= 0 and b < arr[j]:\n",
    "            arr[j + 1] = arr[j]\n",
    "            j -= 1\n",
    "        arr[j + 1] = b"
   ]
  },
  {
   "cell_type": "code",
   "execution_count": 77,
   "metadata": {},
   "outputs": [
    {
     "name": "stdout",
     "output_type": "stream",
     "text": [
      "1.69 µs ± 14.9 ns per loop (mean ± std. dev. of 7 runs, 1000000 loops each)\n"
     ]
    }
   ],
   "source": [
    "arr = [7, 4, 2, 5]\n",
    "%timeit bubble_sort(arr)"
   ]
  },
  {
   "cell_type": "markdown",
   "metadata": {},
   "source": [
    "## Exercise 2:\n",
    "\n",
    "- Profile the memory of the functions above\n",
    "- Propose an optimised version"
   ]
  },
  {
   "cell_type": "code",
   "execution_count": 23,
   "metadata": {},
   "outputs": [
    {
     "name": "stdout",
     "output_type": "stream",
     "text": [
      "Writing large_list.py\n"
     ]
    }
   ],
   "source": [
    "%%file large_list.py\n",
    "\n",
    "def create_large_list(n):\n",
    "    return list(range(n))"
   ]
  },
  {
   "cell_type": "code",
   "execution_count": 24,
   "metadata": {},
   "outputs": [
    {
     "name": "stdout",
     "output_type": "stream",
     "text": [
      "The memory_profiler extension is already loaded. To reload it, use:\n",
      "  %reload_ext memory_profiler\n"
     ]
    }
   ],
   "source": [
    "%load_ext memory_profiler"
   ]
  },
  {
   "cell_type": "code",
   "execution_count": 26,
   "metadata": {},
   "outputs": [
    {
     "name": "stdout",
     "output_type": "stream",
     "text": [
      "\n"
     ]
    },
    {
     "data": {
      "text/plain": [
       "Filename: /home/kissami/Documents/GITHUB/Advanced-Python-LSD/day01/exercises/large_list.py\n",
       "\n",
       "Line #    Mem usage    Increment  Occurrences   Line Contents\n",
       "=============================================================\n",
       "     2     50.0 MiB     50.0 MiB           1   def create_large_list(n):\n",
       "     3   3914.4 MiB   3864.3 MiB           1       return list(range(n))"
      ]
     },
     "metadata": {},
     "output_type": "display_data"
    }
   ],
   "source": [
    "from large_list import create_large_list\n",
    "%mprun -f create_large_list create_large_list(10**8)"
   ]
  },
  {
   "cell_type": "code",
   "execution_count": 1,
   "metadata": {},
   "outputs": [
    {
     "name": "stdout",
     "output_type": "stream",
     "text": [
      "Overwriting large_list.py\n"
     ]
    }
   ],
   "source": [
    "%%file large_list.py\n",
    "\n",
    "def memory_hungry_function_with_lists():\n",
    "    big_list = [[[1 for _ in range(100)] for _ in range(100)] for _ in range(100)]  # Creating a large nested list\n",
    "    result = sum(sum(sum(sublist) for sublist in inner_list) for inner_list in big_list)  # Performing a memory-intensive operation on the list\n",
    "    return result"
   ]
  },
  {
   "cell_type": "code",
   "execution_count": 2,
   "metadata": {},
   "outputs": [],
   "source": [
    "%load_ext memory_profiler"
   ]
  },
  {
   "cell_type": "code",
   "execution_count": 3,
   "metadata": {},
   "outputs": [
    {
     "name": "stdout",
     "output_type": "stream",
     "text": [
      "\n"
     ]
    },
    {
     "data": {
      "text/plain": [
       "Filename: /home/kissami/Documents/GITHUB/Advanced-Python-LSD/day01/exercises/large_list.py\n",
       "\n",
       "Line #    Mem usage    Increment  Occurrences   Line Contents\n",
       "=============================================================\n",
       "     2     48.3 MiB     48.3 MiB           1   def memory_hungry_function_with_lists():\n",
       "     3     57.2 MiB      8.9 MiB     1030303       big_list = [[[1 for _ in range(100)] for _ in range(100)] for _ in range(100)]  # Creating a large nested list\n",
       "     4     57.2 MiB      0.0 MiB       20403       result = sum(sum(sum(sublist) for sublist in inner_list) for inner_list in big_list)  # Performing a memory-intensive operation on the list\n",
       "     5     57.2 MiB      0.0 MiB           1       return result"
      ]
     },
     "metadata": {},
     "output_type": "display_data"
    }
   ],
   "source": [
    "from large_list import memory_hungry_function_with_lists\n",
    "%mprun -f memory_hungry_function_with_lists memory_hungry_function_with_lists()"
   ]
  },
  {
   "cell_type": "code",
   "execution_count": 1,
   "metadata": {},
   "outputs": [
    {
     "name": "stdout",
     "output_type": "stream",
     "text": [
      "Overwriting large_list.py\n"
     ]
    }
   ],
   "source": [
    "%%file large_list.py\n",
    "\n",
    "def optimized_memory_function_with_lists():\n",
    "    chunk_size = 100  # Define a chunk size\n",
    "    total_sum = 0\n",
    "\n",
    "    for _ in range(10):  # Process 10 chunks\n",
    "        chunk = [[[1 for _ in range(chunk_size)] for _ in range(chunk_size)] for _ in range(chunk_size)]\n",
    "        chunk_sum = sum(sum(sum(sublist) for sublist in inner_list) for inner_list in chunk)\n",
    "        total_sum += chunk_sum\n",
    "\n",
    "    return total_sum\n"
   ]
  },
  {
   "cell_type": "code",
   "execution_count": 2,
   "metadata": {},
   "outputs": [],
   "source": [
    "%load_ext memory_profiler"
   ]
  },
  {
   "cell_type": "code",
   "execution_count": 3,
   "metadata": {},
   "outputs": [
    {
     "name": "stdout",
     "output_type": "stream",
     "text": [
      "*** KeyboardInterrupt exception caught in code being profiled.\n"
     ]
    },
    {
     "data": {
      "text/plain": [
       "Filename: /home/kissami/Documents/GITHUB/Advanced-Python-LSD/day01/exercises/large_list.py\n",
       "\n",
       "Line #    Mem usage    Increment  Occurrences   Line Contents\n",
       "=============================================================\n",
       "     2     48.1 MiB     48.1 MiB           1   def optimized_memory_function_with_lists():\n",
       "     3     48.1 MiB      0.0 MiB           1       chunk_size = 100  # Define a chunk size\n",
       "     4     48.1 MiB      0.0 MiB           1       total_sum = 0\n",
       "     5                                         \n",
       "     6     48.1 MiB      0.0 MiB           1       for _ in range(10):  # Process 10 chunks\n",
       "     7     53.6 MiB   -346.7 MiB      656585           chunk = [[[1 for _ in range(chunk_size)] for _ in range(chunk_size)] for _ in range(chunk_size)]\n",
       "     8                                                 chunk_sum = sum(sum(sum(sublist) for sublist in inner_list) for inner_list in chunk)\n",
       "     9                                                 total_sum += chunk_sum\n",
       "    10                                         \n",
       "    11                                             return total_sum"
      ]
     },
     "metadata": {},
     "output_type": "display_data"
    }
   ],
   "source": [
    "from large_list import optimized_memory_function_with_lists\n",
    "%mprun -f optimized_memory_function_with_lists optimized_memory_function_with_lists()"
   ]
  },
  {
   "cell_type": "code",
   "execution_count": null,
   "metadata": {},
   "outputs": [],
   "source": []
  }
 ],
 "metadata": {
  "kernelspec": {
   "display_name": "Python 3",
   "language": "python",
   "name": "python3"
  },
  "language_info": {
   "codemirror_mode": {
    "name": "ipython",
    "version": 3
   },
   "file_extension": ".py",
   "mimetype": "text/x-python",
   "name": "python",
   "nbconvert_exporter": "python",
   "pygments_lexer": "ipython3",
   "version": "3.7.3"
  }
 },
 "nbformat": 4,
 "nbformat_minor": 4
}
