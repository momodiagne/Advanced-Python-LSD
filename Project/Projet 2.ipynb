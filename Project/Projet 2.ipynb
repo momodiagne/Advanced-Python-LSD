{
 "cells": [
  {
   "cell_type": "markdown",
   "metadata": {},
   "source": [
    "# Système de Résolution de Problèmes Mathématiques Avancés"
   ]
  },
  {
   "cell_type": "markdown",
   "metadata": {},
   "source": [
    "## Importations des librairies requises"
   ]
  },
  {
   "cell_type": "code",
   "execution_count": 5,
   "metadata": {},
   "outputs": [],
   "source": [
    "import numpy as np\n",
    "import math\n",
    "import scipy as sy\n",
    "import sympy as su\n",
    "import matplotlib as plt\n",
    "import re\n",
    "from unidecode import unidecode\n",
    "from sympy import symbols, Eq, solve, latex"
   ]
  },
  {
   "cell_type": "markdown",
   "metadata": {},
   "source": [
    "## Définition de la classe MathProblemInterpreter "
   ]
  },
  {
   "cell_type": "code",
   "execution_count": 15,
   "metadata": {},
   "outputs": [],
   "source": [
    "class MathProblemInterpreter:\n",
    "    def __init__(self):\n",
    "        self.integral_keywords = ['integral', 'integrer', 'integration']\n",
    "        self.equation_keywords = ['equation', 'resoudre', 'solution', 'inconnue']\n",
    "        self.matrix_keywords = ['matrix', 'matrice', 'matriciel']\n",
    "        self.determinant_keywords = ['determinant', 'det']\n",
    "        self.inverse_keywords = ['inverse', 'inverser']\n",
    "        self.derivative_keywords = ['derivee', 'derive', 'deriver']\n",
    "        self.plot_keywords = ['tracer', 'courbe', 'graphique']\n",
    "        self.sum_keywords = ['somme', 'addition']\n",
    "        self.product_keywords = ['produit', 'multiplication']\n",
    "        self.area_keywords = ['aire', 'triangle', 'carré', 'carre', 'losange', 'rectangle']\n",
    "        self.math_operations = ['+', '-', '*', '/']\n",
    "        self.problem = None\n",
    "        self.problem_type = None\n",
    "\n",
    "    def interpret_problem(self):\n",
    "        self.problem = input(\"Entrer le problème : \")\n",
    "\n",
    "        if self.check_integral_keywords():\n",
    "            self.problem_type = 'Calculer un intégral'\n",
    "\n",
    "        elif self.check_equation_keywords():\n",
    "            self.problem_type = 'Résoudre une équation'\n",
    "\n",
    "        elif self.check_matrix_keywords():\n",
    "            self.problem_type = 'Calcul matriciel'\n",
    "            \n",
    "        elif self.check_plot_keywords():\n",
    "            self.problem_type = 'Tracer une courbe'\n",
    "\n",
    "        else:\n",
    "            self.problem_type = 'Autre calcul'\n",
    "\n",
    "        return self.problem_type\n",
    "\n",
    "    def check_integral_keywords(self):\n",
    "        words = self.split_problem_text()\n",
    "        for word in words:\n",
    "            if unidecode(word) in self.integral_keywords:\n",
    "                return True\n",
    "        return False\n",
    "\n",
    "    def check_equation_keywords(self):\n",
    "        words = self.split_problem_text()\n",
    "        for word in words:\n",
    "            if unidecode(word) in self.equation_keywords:\n",
    "                return True\n",
    "        return False\n",
    "\n",
    "    def check_matrix_keywords(self):\n",
    "        words = self.split_problem_text()\n",
    "        for word in words:\n",
    "            if unidecode(word) in self.matrix_keywords:\n",
    "                return True\n",
    "        return False\n",
    "\n",
    "    def check_product_keywords(self):\n",
    "        words = self.split_problem_text()\n",
    "        for word in words:\n",
    "            if unidecode(word) in self.product_keywords:\n",
    "                return True\n",
    "        return False\n",
    "\n",
    "    def check_plot_keywords(self):\n",
    "        words = self.split_problem_text()\n",
    "        for word in words:\n",
    "            if unidecode(word) in self.plot_keywords:\n",
    "                return True\n",
    "        return False\n",
    "        \n",
    "    def check_sum_keywords(self):\n",
    "        words = self.split_problem_text()\n",
    "        for word in words:\n",
    "            if unidecode(word) in self.sum_keywords:\n",
    "                return True\n",
    "        return False\n",
    "\n",
    "    def check_difference_keywords(self):\n",
    "        words = self.split_problem_text()\n",
    "        for word in words:\n",
    "            if unidecode(word) in self.math_operations:\n",
    "                return True\n",
    "        return False\n",
    "\n",
    "    def check_inverse_keywords(self):\n",
    "        words = self.split_problem_text()\n",
    "        for word in words:\n",
    "            if unidecode(word) in self.inverse_keywords:\n",
    "                return True\n",
    "        return False\n",
    "\n",
    "    def check_determinant_keywords(self):\n",
    "        words = self.split_problem_text()\n",
    "        for word in words:\n",
    "            if unidecode(word) in self.determinant_keywords:\n",
    "                return True\n",
    "        return False\n",
    "\n",
    "\n",
    "    def split_problem_text(self):\n",
    "        delimiters = r\"[,.'\\s!]+\"\n",
    "        problem_text = self.problem.lower()\n",
    "        words = re.split(delimiters, problem_text)\n",
    "        return words\n",
    "\n",
    "    def extract_equation(self, problem):\n",
    "        equation = re.sub(r'[^0-9x^+\\-*/=]', '', problem.lower())\n",
    "        return equation\n"
   ]
  },
  {
   "cell_type": "markdown",
   "metadata": {},
   "source": [
    "## Definition de la classe ProblemSolver"
   ]
  },
  {
   "cell_type": "code",
   "execution_count": 22,
   "metadata": {},
   "outputs": [
    {
     "name": "stdout",
     "output_type": "stream",
     "text": [
      "[-3/2 - sqrt(7)*I/2, -3/2 + sqrt(7)*I/2]\n"
     ]
    }
   ],
   "source": [
    "class ProblemSolver(MathProblemInterpreter):\n",
    "    def solve_problem(self, problem):\n",
    "        equation = self.extract_equation(problem)\n",
    "\n",
    "        if equation:\n",
    "            expression_str = \"x^2 + 3x + 4 = 0\"\n",
    "            expression_str = re.sub(r'(?<!\\d)([a-zA-Z])', r'1*\\1', expression_str)\n",
    "            expression_str = re.sub(r'(\\d+)([a-zA-Z])', r'\\1*\\2', expression_str)\n",
    "            expression_str = re.sub(r'\\^', r'**', expression_str)\n",
    "\n",
    "            left_side, right_side = expression_str.split('=')\n",
    "\n",
    "            x = symbols('x')\n",
    "\n",
    "            left_expr = eval(left_side)\n",
    "            right_expr = eval(right_side)\n",
    "\n",
    "            equation = Eq(left_expr, right_expr)\n",
    "            solution = solve(equation, x)\n",
    "\n",
    "            return solution\n",
    "        else:\n",
    "            return \"L'équation n'a pas pu être extraite.\"\n",
    "\n",
    "# Exemple d'utilisation\n",
    "solver = ProblemSolver()\n",
    "equation_str = \"x^2 + 3x + 4 = 0\"\n",
    "solution = solver.solve_problem(equation_str)\n",
    "print(solution)"
   ]
  },
  {
   "cell_type": "code",
   "execution_count": null,
   "metadata": {},
   "outputs": [],
   "source": []
  }
 ],
 "metadata": {
  "kernelspec": {
   "display_name": "Python 3 (ipykernel)",
   "language": "python",
   "name": "python3"
  },
  "language_info": {
   "codemirror_mode": {
    "name": "ipython",
    "version": 3
   },
   "file_extension": ".py",
   "mimetype": "text/x-python",
   "name": "python",
   "nbconvert_exporter": "python",
   "pygments_lexer": "ipython3",
   "version": "3.10.12"
  }
 },
 "nbformat": 4,
 "nbformat_minor": 4
}
