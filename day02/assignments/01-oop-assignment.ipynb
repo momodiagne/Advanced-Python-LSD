{
 "cells": [
  {
   "cell_type": "markdown",
   "metadata": {},
   "source": [
    "# Oriented Object Programming Exercices"
   ]
  },
  {
   "cell_type": "markdown",
   "metadata": {},
   "source": [
    "## Exercice 1:\n",
    "\n",
    "- consedering the following code\n",
    "\n",
    "```python\n",
    "import datetime # we will use this for date objects\n",
    "\n",
    "class Person:\n",
    "\n",
    "    def __init__(self, name, surname, birthdate, address, telephone, email):\n",
    "        self.name = name\n",
    "        self.surname = surname\n",
    "        self.birthdate = birthdate\n",
    "\n",
    "        self.address = address\n",
    "        self.telephone = telephone\n",
    "        self.email = email\n",
    "\n",
    "    def age(self):\n",
    "        today = datetime.date.today()\n",
    "        age = today.year - self.birthdate.year\n",
    "\n",
    "        if today < datetime.date(today.year, self.birthdate.month, self.birthdate.day):\n",
    "            age -= 1\n",
    "\n",
    "        return age\n",
    "\n",
    "person = Person(\n",
    "    \"Jane\",\n",
    "    \"Doe\",\n",
    "    datetime.date(1992, 3, 12), # year, month, day\n",
    "    \"No. 12 Short Street, Greenville\",\n",
    "    \"555 456 0987\",\n",
    "    \"jane.doe@example.com\"\n",
    ")\n",
    "\n",
    "print(person.name)\n",
    "print(person.email)\n",
    "print(person.age())\n",
    "```\n",
    "Explain what the following variables refer to, and their scope:\n",
    "1. Person\n",
    "2. person\n",
    "3. surname\n",
    "4. self\n",
    "5. age (the function name)\n",
    "6. age (the variable used inside the function)\n",
    "7. self.email\n",
    "8. person.email"
   ]
  },
  {
   "cell_type": "markdown",
   "metadata": {},
   "source": [
    "### write your answer here\n",
    "1.  Person est le nom de la classe\n",
    "2.  person est une instance de la classe Person\n",
    "3.  surname est un parametre du constructeur de la classe Person\n",
    "4.  self est une sorte de pointeur qui permet d'acceder aux attributs de la classe actuelle\n",
    "5.  age est une methode de la classe Person \n",
    "6.  age est un variable local defini à l'interieur du methode age\n",
    "7.  self.email est un attribut de la classe Person\n",
    "8.  person.email est la variable qui a comme valeur \"jane.doe@example.com\""
   ]
  },
  {
   "cell_type": "markdown",
   "metadata": {},
   "source": [
    "## Exercise 2 \n",
    "Create a Class with instance attributes. Write a Python program to create a Vehicle class with instance attributes: \n",
    " - max_speed\n",
    " - mileage "
   ]
  },
  {
   "cell_type": "code",
   "execution_count": 28,
   "metadata": {},
   "outputs": [],
   "source": [
    "class Vehicle:\n",
    "    def __init__(self, max_speed, mileage):\n",
    "        self.max_speed = max_speed\n",
    "        self.mileage = mileage"
   ]
  },
  {
   "cell_type": "markdown",
   "metadata": {},
   "source": [
    "## Exercice 3\n",
    "\n",
    "Create a Vehicle class without any variables and methods "
   ]
  },
  {
   "cell_type": "code",
   "execution_count": 6,
   "metadata": {},
   "outputs": [],
   "source": [
    "class Vehicle:\n",
    "    pass"
   ]
  },
  {
   "cell_type": "markdown",
   "metadata": {},
   "source": [
    "## Exercice 4\n",
    "\n",
    "Create a child class Bus that will inherit all of the variables and methods of the Vehicle class\n",
    "- Desired output:\n",
    "```Python\n",
    "#> Vehicle Name: School Volvo Speed: 180 Mileage: 12\n",
    "```"
   ]
  },
  {
   "cell_type": "code",
   "execution_count": 29,
   "metadata": {},
   "outputs": [
    {
     "data": {
      "text/plain": [
       "'Vehicle Name: School Volvo, Speed: 180, Mileage: 12'"
      ]
     },
     "execution_count": 29,
     "metadata": {},
     "output_type": "execute_result"
    }
   ],
   "source": [
    "class Bus(Vehicle):\n",
    "    def __init__(self, max_speed, mileage, name):\n",
    "        super().__init__(max_speed, mileage)\n",
    "        self.name = name\n",
    "\n",
    "    def __str__(self):\n",
    "        return (f\"Vehicle Name: {self.name}, Speed: {self.max_speed}, Mileage: {self.mileage}\")\n",
    "\n",
    "bus = Bus(max_speed=180, mileage=12, name=\"School Volvo\")\n",
    "\n",
    "bus.__str__()"
   ]
  },
  {
   "cell_type": "markdown",
   "metadata": {},
   "source": [
    "## Exercice 5 (Class Inheritance)\n",
    "\n",
    "- Input\n",
    "Create a Bus class that inherits from the Vehicle class. Give the capacity argument of `Bus.seating_capacity()` a default value of 50.\n",
    "\n",
    "Use the following code for your parent Vehicle class.\n",
    "```Python\n",
    "class Vehicle:\n",
    "    def __init__(self, name, max_speed, mileage):\n",
    "        self.name = name\n",
    "        self.max_speed = max_speed\n",
    "        self.mileage = mileage\n",
    "\n",
    "    def seating_capacity(self, capacity):\n",
    "        return f\"The seating capacity of a {self.name} is {capacity} passengers\"\n",
    "```\n",
    "- Desired output:\n",
    "```Python\n",
    "#> The seating capacity of a bus is 50 passengers\n",
    "```"
   ]
  },
  {
   "cell_type": "code",
   "execution_count": 25,
   "metadata": {},
   "outputs": [
    {
     "data": {
      "text/plain": [
       "'The seating capacity of a bus is 50 passengers'"
      ]
     },
     "execution_count": 25,
     "metadata": {},
     "output_type": "execute_result"
    }
   ],
   "source": [
    "class Vehicle:\n",
    "    def __init__(self, name, max_speed, mileage):\n",
    "        self.name = name\n",
    "        self.max_speed = max_speed\n",
    "        self.mileage = mileage\n",
    "\n",
    "    def seating_capacity(self, capacity):\n",
    "        return f\"The seating capacity of a {self.name} is {capacity} passengers\"\n",
    "    \n",
    "\n",
    "class Bus(Vehicle):\n",
    "    def __init__(self, name, max_speed, mileage, capacity):\n",
    "        super().__init__(name, max_speed, mileage)\n",
    "        self.capacity = capacity\n",
    "        \n",
    "bus = Bus(name=\"bus\", max_speed=180, mileage=12, capacity=50)\n",
    "bus.seating_capacity(bus.capacity)\n"
   ]
  },
  {
   "cell_type": "markdown",
   "metadata": {},
   "source": [
    "## Exercice 6\n",
    "\n",
    "Define a property that must have the same value for every class instance (object)\n",
    "\n",
    "Define a class attribute `\"color\"` with a default value white. I.e., Every Vehicle should be white.\n",
    "\n",
    "Use the following code for this exercise.\n",
    "\n",
    "```Python\n",
    "class Vehicle:\n",
    "\n",
    "    def __init__(self, name, max_speed, mileage):\n",
    "        self.name = name\n",
    "        self.max_speed = max_speed\n",
    "        self.mileage = mileage\n",
    "\n",
    "class Bus(Vehicle):\n",
    "    pass\n",
    "\n",
    "class Car(Vehicle):\n",
    "    pass\n",
    "```\n",
    "- Desiret output:\n",
    "```Python\n",
    "#> Color: White, Vehicle name: School Volvo, Speed: 180, Mileage: 12\n",
    "#> Color: White, Vehicle name: Audi Q5, Speed: 240, Mileage: 18\n",
    "```                "
   ]
  },
  {
   "cell_type": "code",
   "execution_count": 35,
   "metadata": {},
   "outputs": [
    {
     "name": "stdout",
     "output_type": "stream",
     "text": [
      "Color: White, Vehicle Name: School Volvo, Speed: 180, Mileage: 12\n",
      "Color: White, Vehicle Name: Audi Q5, Speed: 240, Mileage: 18\n"
     ]
    }
   ],
   "source": [
    "class Vehicle:\n",
    "    def __init__(self, max_speed, mileage):\n",
    "        self.max_speed = max_speed\n",
    "        self.mileage = mileage\n",
    "        \n",
    "class Bus(Vehicle):\n",
    "    def __init__(self, max_speed, mileage, name, color):\n",
    "        super().__init__(max_speed, mileage)\n",
    "        self.name = name\n",
    "        self.color = color\n",
    "\n",
    "    def __str__(self):\n",
    "        return (f\"Color: {self.color}, Vehicle Name: {self.name}, Speed: {self.max_speed}, Mileage: {self.mileage}\")\n",
    "\n",
    "class Car(Vehicle):\n",
    "    def __init__(self, max_speed, mileage, name, color):\n",
    "        super().__init__(max_speed, mileage)\n",
    "        self.name = name\n",
    "        self.color = color\n",
    "\n",
    "    def __str__(self):\n",
    "        return (f\"Color: {self.color}, Vehicle Name: {self.name}, Speed: {self.max_speed}, Mileage: {self.mileage}\")\n",
    "\n",
    "bus = Bus(max_speed=180, mileage=12, name=\"School Volvo\", color=\"White\")\n",
    "car = Car(max_speed=240, mileage=18, name=\"Audi Q5\", color=\"White\")\n",
    "print(bus.__str__())\n",
    "print(car.__str__())\n",
    "\n"
   ]
  },
  {
   "cell_type": "markdown",
   "metadata": {},
   "source": [
    "## Exercice 7  (Class Inheritance)\n",
    "- Input\n",
    "\n",
    "Create a Bus child class that inherits from the Vehicle class. The default fare charge of any vehicle is seating `capacity * 100`. If Vehicle is Bus instance, we need to add an extra 10% on full fare as a maintenance charge. So total fare for bus instance will become the `final amount = total fare + 10% of the total fare`.\n",
    "\n",
    "Note: The bus seating capacity is 50. so the final fare amount should be 5500. You need to override the fare() method of a Vehicle class in Bus class.\n",
    "\n",
    "Use the following code for your parent Vehicle class. We need to access the parent class from inside a method of a child class.\n",
    "```Python\n",
    "class Vehicle:\n",
    "    def __init__(self, name, mileage, capacity):\n",
    "        self.name = name\n",
    "        self.mileage = mileage\n",
    "        self.capacity = capacity\n",
    "\n",
    "    def fare(self):\n",
    "        return self.capacity * 100\n",
    "\n",
    "class Bus(Vehicle):\n",
    "    pass\n",
    "\n",
    "School_bus = Bus(\"School Volvo\", 12, 50)\n",
    "print(\"Total Bus fare is:\", School_bus.fare())\n",
    "```\n",
    "- Desired output:\n",
    "```Python\n",
    "#> Total Bus fare is: 5500.0\n",
    "```"
   ]
  },
  {
   "cell_type": "code",
   "execution_count": 37,
   "metadata": {},
   "outputs": [
    {
     "name": "stdout",
     "output_type": "stream",
     "text": [
      "Total Bus fare is: 5500.0\n"
     ]
    }
   ],
   "source": [
    "class Vehicle:\n",
    "    def __init__(self, name, mileage, capacity):\n",
    "        self.name = name\n",
    "        self.mileage = mileage\n",
    "        self.capacity = capacity\n",
    "\n",
    "    def fare(self):\n",
    "        return self.capacity * 100\n",
    "\n",
    "class Bus(Vehicle):\n",
    "    def __init__(self, name, mileage, capacity):\n",
    "        super().__init__(name, mileage, capacity)\n",
    "    \n",
    "    def fare(self):\n",
    "        return super().fare() + super().fare() * 0.1\n",
    "\n",
    "School_bus = Bus(\"School Volvo\", 12, 50)\n",
    "print(\"Total Bus fare is:\", School_bus.fare())"
   ]
  },
  {
   "cell_type": "markdown",
   "metadata": {},
   "source": [
    "## Exercice 8  (Check type of an object)\n",
    "\n",
    "Write a program to determine which class a given Bus object belongs to.\n",
    "- Input\n",
    "```Python\n",
    "class Vehicle:\n",
    "    def __init__(self, name, mileage, capacity):\n",
    "        self.name = name\n",
    "        self.mileage = mileage\n",
    "        self.capacity = capacity\n",
    "```\n",
    "```Python\n",
    "class Bus(Vehicle):\n",
    "    pass\n",
    "School_bus = Bus(\"School Volvo\", 12, 50)\n",
    "```\n"
   ]
  },
  {
   "cell_type": "code",
   "execution_count": 39,
   "metadata": {},
   "outputs": [
    {
     "name": "stdout",
     "output_type": "stream",
     "text": [
      "The given Bus object belongs to the class: Vehicle\n"
     ]
    }
   ],
   "source": [
    "class Vehicle:\n",
    "    def __init__(self, name, mileage, capacity):\n",
    "        self.name = name\n",
    "        self.mileage = mileage\n",
    "        self.capacity = capacity\n",
    "\n",
    "class Bus(Vehicle):\n",
    "    pass\n",
    "\n",
    "\n",
    "def determine_class(obj):\n",
    "    if isinstance(obj, Vehicle):\n",
    "        return \"Vehicle\"\n",
    "    elif isinstance(obj, Bus):\n",
    "        return \"Bus\"\n",
    "    else:\n",
    "        return \"Unknown Class\"\n",
    "School_bus = Bus(\"School Volvo\", 12, 50)\n",
    "result = determine_class(School_bus)\n",
    "print(f\"The given Bus object belongs to the class: {result}\")\n"
   ]
  },
  {
   "cell_type": "code",
   "execution_count": null,
   "metadata": {},
   "outputs": [],
   "source": []
  }
 ],
 "metadata": {
  "hide_input": false,
  "kernelspec": {
   "display_name": "Python 3",
   "language": "python",
   "name": "python3"
  },
  "language_info": {
   "codemirror_mode": {
    "name": "ipython",
    "version": 3
   },
   "file_extension": ".py",
   "mimetype": "text/x-python",
   "name": "python",
   "nbconvert_exporter": "python",
   "pygments_lexer": "ipython3",
   "version": "3.7.3"
  }
 },
 "nbformat": 4,
 "nbformat_minor": 4
}
