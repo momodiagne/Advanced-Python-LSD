{
 "cells": [
  {
   "cell_type": "markdown",
   "id": "ffe8e3da",
   "metadata": {},
   "source": [
    "## Logging Info"
   ]
  },
  {
   "cell_type": "code",
   "execution_count": 3,
   "id": "53e173b7",
   "metadata": {},
   "outputs": [
    {
     "name": "stderr",
     "output_type": "stream",
     "text": [
      "14:47:09: Main    : create and start thread 0.\n",
      "14:47:09: Thread 0: starting\n",
      "14:47:09: Main    : create and start thread 1.\n",
      "14:47:09: Thread 1: starting\n",
      "14:47:09: Main    : create and start thread 2.\n",
      "14:47:09: Thread 2: starting\n",
      "14:47:09: Main    : before joining thread 0.\n",
      "14:47:11: Thread 0: finishing\n",
      "14:47:11: Main    : thread 0 done\n",
      "14:47:11: Main    : before joining thread 1.\n",
      "14:47:11: Thread 1: finishing\n",
      "14:47:11: Thread 2: finishing\n",
      "14:47:11: Main    : thread 1 done\n",
      "14:47:11: Main    : before joining thread 2.\n",
      "14:47:11: Main    : thread 2 done\n"
     ]
    }
   ],
   "source": [
    "import logging\n",
    "import threading\n",
    "import time\n",
    "\n",
    "def thread_function(name):\n",
    "    logging.info(\"Thread %s: starting\", name)\n",
    "    time.sleep(2)\n",
    "    logging.info(\"Thread %s: finishing\", name)\n",
    "\n",
    "if __name__ == \"__main__\":\n",
    "    format = \"%(asctime)s: %(message)s\"\n",
    "    logging.basicConfig(format=format, level=logging.INFO,\n",
    "                        datefmt=\"%H:%M:%S\")\n",
    "\n",
    "    threads = list()\n",
    "    for index in range(3):\n",
    "        logging.info(\"Main    : create and start thread %d.\", index)\n",
    "        x = threading.Thread(target=thread_function, args=(index,))\n",
    "        threads.append(x)\n",
    "        x.start()\n",
    "\n",
    "    for index, thread in enumerate(threads):\n",
    "        logging.info(\"Main    : before joining thread %d.\", index)\n",
    "        thread.join()\n",
    "        logging.info(\"Main    : thread %d done\", index)\n"
   ]
  },
  {
   "cell_type": "code",
   "execution_count": 5,
   "id": "321e6764",
   "metadata": {},
   "outputs": [
    {
     "name": "stderr",
     "output_type": "stream",
     "text": [
      "14:47:17: Thread 0: starting\n",
      "14:47:17: Thread 1: starting\n",
      "14:47:17: Thread 2: starting\n",
      "14:47:19: Thread 0: finishing\n",
      "14:47:19: Thread 1: finishing\n",
      "14:47:19: Thread 2: finishing\n"
     ]
    }
   ],
   "source": [
    "import concurrent.futures\n",
    "\n",
    "# [rest of code]\n",
    "\n",
    "if __name__ == \"__main__\":\n",
    "    format = \"%(asctime)s: %(message)s\"\n",
    "    logging.basicConfig(format=format, level=logging.INFO,\n",
    "                        datefmt=\"%H:%M:%S\")\n",
    "\n",
    "    with concurrent.futures.ThreadPoolExecutor(max_workers=3) as executor:\n",
    "        executor.map(thread_function, range(3))\n"
   ]
  },
  {
   "cell_type": "markdown",
   "id": "b14ea633",
   "metadata": {},
   "source": [
    "## Race Condition"
   ]
  },
  {
   "cell_type": "markdown",
   "id": "ac7ee430",
   "metadata": {},
   "source": [
    "### Example 1"
   ]
  },
  {
   "cell_type": "code",
   "execution_count": 6,
   "id": "6fae109d",
   "metadata": {},
   "outputs": [
    {
     "name": "stdout",
     "output_type": "stream",
     "text": [
      "Final Counter Value: 1491767\n"
     ]
    }
   ],
   "source": [
    "import threading\n",
    "\n",
    "counter = 0\n",
    "lock = threading.Lock()\n",
    "\n",
    "def increment_counter():\n",
    "    global counter\n",
    "    for _ in range(1000000):\n",
    "        counter += 1\n",
    "\n",
    "# Create two threads\n",
    "thread1 = threading.Thread(target=increment_counter)\n",
    "thread2 = threading.Thread(target=increment_counter)\n",
    "\n",
    "# Start the threads\n",
    "thread1.start()\n",
    "thread2.start()\n",
    "\n",
    "# Wait for both threads to finish\n",
    "thread1.join()\n",
    "thread2.join()\n",
    "\n",
    "# Print the final value of the counter\n",
    "print(\"Final Counter Value:\", counter)"
   ]
  },
  {
   "cell_type": "markdown",
   "id": "3eee7b16",
   "metadata": {},
   "source": [
    "### Example 2"
   ]
  },
  {
   "cell_type": "code",
   "execution_count": 8,
   "id": "6c8e1f31",
   "metadata": {},
   "outputs": [],
   "source": [
    "class FakeDatabase:\n",
    "    def __init__(self):\n",
    "        self.value = 0\n",
    "\n",
    "    def update(self, name):\n",
    "        logging.info(\"Thread %s: starting update\", name)\n",
    "        local_copy = self.value\n",
    "        local_copy += 1\n",
    "        time.sleep(0.1)\n",
    "        self.value = local_copy\n",
    "        logging.info(\"Thread %s: finishing update\", name)\n"
   ]
  },
  {
   "cell_type": "code",
   "execution_count": 9,
   "id": "42f9ea1a",
   "metadata": {},
   "outputs": [
    {
     "name": "stderr",
     "output_type": "stream",
     "text": [
      "14:47:23: Testing update. Starting value is 0.\n",
      "14:47:23: Thread 0: starting update\n",
      "14:47:23: Thread 1: starting update\n",
      "14:47:23: Thread 0: finishing update\n",
      "14:47:23: Thread 1: finishing update\n",
      "14:47:23: Testing update. Ending value is 1.\n"
     ]
    }
   ],
   "source": [
    "if __name__ == \"__main__\":\n",
    "    format = \"%(asctime)s: %(message)s\"\n",
    "    logging.basicConfig(format=format, level=logging.INFO,\n",
    "                        datefmt=\"%H:%M:%S\")\n",
    "\n",
    "    database = FakeDatabase()\n",
    "    logging.info(\"Testing update. Starting value is %d.\", database.value)\n",
    "    with concurrent.futures.ThreadPoolExecutor(max_workers=2) as executor:\n",
    "        for index in range(2):\n",
    "            executor.submit(database.update, index)\n",
    "    logging.info(\"Testing update. Ending value is %d.\", database.value)\n"
   ]
  },
  {
   "cell_type": "code",
   "execution_count": 11,
   "id": "2f8d2c02",
   "metadata": {},
   "outputs": [],
   "source": [
    "class FakeDatabase:\n",
    "    def __init__(self):\n",
    "        self.value = 0\n",
    "        self._lock = threading.Lock()\n",
    "\n",
    "    def locked_update(self, name):\n",
    "        logging.info(\"Thread %s: starting update\", name)\n",
    "        logging.debug(\"Thread %s about to lock\", name)\n",
    "        logging.getLogger().setLevel(logging.DEBUG)\n",
    "        with self._lock:\n",
    "            logging.debug(\"Thread %s has lock\", name)\n",
    "            local_copy = self.value\n",
    "            local_copy += 1\n",
    "            time.sleep(0.1)\n",
    "            self.value = local_copy\n",
    "            logging.debug(\"Thread %s about to release lock\", name)\n",
    "        logging.debug(\"Thread %s after release\", name)\n",
    "        logging.info(\"Thread %s: finishing update\", name)\n"
   ]
  },
  {
   "cell_type": "code",
   "execution_count": 12,
   "id": "e0773f2f",
   "metadata": {},
   "outputs": [
    {
     "name": "stderr",
     "output_type": "stream",
     "text": [
      "14:47:52: Testing update. Starting value is 0.\n",
      "14:47:52: Thread 0: starting update\n",
      "14:47:52: Thread 1: starting update\n",
      "14:47:52: Thread 0 has lock\n",
      "14:47:52: Thread 1 about to lock\n",
      "14:47:52: Thread 0 about to release lock\n",
      "14:47:52: Thread 0 after release\n",
      "14:47:52: Thread 1 has lock\n",
      "14:47:52: Thread 0: finishing update\n",
      "14:47:52: Thread 1 about to release lock\n",
      "14:47:52: Thread 1 after release\n",
      "14:47:52: Thread 1: finishing update\n",
      "14:47:52: Testing update. Ending value is 2.\n"
     ]
    }
   ],
   "source": [
    "if __name__ == \"__main__\":\n",
    "    format = \"%(asctime)s: %(message)s\"\n",
    "    logging.basicConfig(format=format, level=logging.INFO,\n",
    "                        datefmt=\"%H:%M:%S\")\n",
    "\n",
    "    database = FakeDatabase()\n",
    "    logging.info(\"Testing update. Starting value is %d.\", database.value)\n",
    "    with concurrent.futures.ThreadPoolExecutor(max_workers=2) as executor:\n",
    "        for index in range(2):\n",
    "            executor.submit(database.locked_update, index)\n",
    "    logging.info(\"Testing update. Ending value is %d.\", database.value)"
   ]
  },
  {
   "cell_type": "code",
   "execution_count": 7,
   "id": "7e05a3ab",
   "metadata": {},
   "outputs": [],
   "source": []
  }
 ],
 "metadata": {
  "kernelspec": {
   "display_name": "Python 3",
   "language": "python",
   "name": "python3"
  },
  "language_info": {
   "codemirror_mode": {
    "name": "ipython",
    "version": 3
   },
   "file_extension": ".py",
   "mimetype": "text/x-python",
   "name": "python",
   "nbconvert_exporter": "python",
   "pygments_lexer": "ipython3",
   "version": "3.8.10"
  }
 },
 "nbformat": 4,
 "nbformat_minor": 5
}
