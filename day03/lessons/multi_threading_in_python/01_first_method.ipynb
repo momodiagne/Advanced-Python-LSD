{
 "cells": [
  {
   "cell_type": "code",
   "execution_count": 1,
   "id": "1861b146",
   "metadata": {},
   "outputs": [
    {
     "name": "stdout",
     "output_type": "stream",
     "text": [
      "*** normal execution ***\n",
      "One started.\n",
      "One finished.\n",
      "Two started.\n",
      "Two finished.\n",
      "6.005110489997605\n",
      "*** using multi-threading ***\n",
      "One started.\n",
      "Two started.\n",
      "One finished.\n",
      "Two finished.\n",
      "using multi-threading:  3.0060857429998578\n"
     ]
    }
   ],
   "source": [
    "from time import sleep, perf_counter\n",
    "from threading import Thread\n",
    "\n",
    "print('*** normal execution ***')\n",
    "\n",
    "start = perf_counter()\n",
    "\n",
    "def show(name):\n",
    "    print(f'{name} started.')\n",
    "    sleep(3)\n",
    "    print(f'{name} finished.')\n",
    "\n",
    "show('One')\n",
    "show('Two')\n",
    "end = perf_counter()\n",
    "print(end - start)\n",
    "\n",
    "######################## multi-threading #########################\n",
    "\n",
    "print('*** using multi-threading ***')\n",
    "start = perf_counter()\n",
    "t1 = Thread(target=show, args=('One',))\n",
    "t2 = Thread(target=show, args=('Two',))\n",
    "t1.start()\n",
    "t2.start()\n",
    "\n",
    "t1.join() # wait until thread t1 is finished\n",
    "t2.join() # wait until thread t2 is finished\n",
    "\n",
    "end = perf_counter()\n",
    "\n",
    "print('using multi-threading: ', end - start)"
   ]
  },
  {
   "cell_type": "code",
   "execution_count": 15,
   "id": "eab841e6",
   "metadata": {},
   "outputs": [
    {
     "name": "stdout",
     "output_type": "stream",
     "text": [
      "*** without using multi-processing ***\n",
      "toto\n",
      "Time taken without using multi-processing:  0.136152672006574 total is 3.333338333335e+17\n",
      "*** using multi-processing ***\n",
      "toto\n",
      "toto\n",
      "Total sum of square roots from 1 to 1000000 is:  3.333338333335e+17\n",
      "Time taken using multi-processing:  0.0865082319942303 total is 3.333338333335e+17\n"
     ]
    }
   ],
   "source": [
    "from multiprocessing import Process, Value\n",
    "from math import sqrt\n",
    "from time import perf_counter\n",
    "\n",
    "def sum_of_square(start, end, total):\n",
    "    local_sum = 0\n",
    "    for i in range(start, end+1):\n",
    "        local_sum += i**2\n",
    "    with total.get_lock():\n",
    "        total.value += local_sum\n",
    "        print(\"toto\")\n",
    "\n",
    "if __name__ == '__main__':\n",
    "    \n",
    "    print('*** without using multi-processing ***')\n",
    "    \n",
    "    start_time = perf_counter()\n",
    "    \n",
    "    total = Value('d', 0.0)  # 'd' is the typecode for double\n",
    "    \n",
    "    p1 = Thread(target=sum_of_square, args=(1, 1000000, total))\n",
    "\n",
    "    p1.start()\n",
    "    p1.join()\n",
    "\n",
    "    end_time = perf_counter()\n",
    "\n",
    "    print('Time taken without using multi-processing: ', end_time - start_time, \"total is\", total.value)\n",
    "    \n",
    "    \n",
    "    print('*** using multi-processing ***')\n",
    "\n",
    "    start_time = perf_counter()\n",
    "\n",
    "    total = Value('d', 0.0)  # 'd' is the typecode for double\n",
    "\n",
    "    p1 = Process(target=sum_of_square, args=(1, 500000, total))\n",
    "    p2 = Process(target=sum_of_square, args=(500001, 1000000, total))\n",
    "\n",
    "    p1.start()\n",
    "    p2.start()\n",
    "\n",
    "    p1.join()\n",
    "    p2.join()\n",
    "\n",
    "    print('Total sum of square roots from 1 to 1000000 is: ', total.value)\n",
    "\n",
    "    end_time = perf_counter()\n",
    "\n",
    "    print('Time taken using multi-processing: ', end_time - start_time,  \"total is\", total.value)\n"
   ]
  }
 ],
 "metadata": {
  "kernelspec": {
   "display_name": "Python 3",
   "language": "python",
   "name": "python3"
  },
  "language_info": {
   "codemirror_mode": {
    "name": "ipython",
    "version": 3
   },
   "file_extension": ".py",
   "mimetype": "text/x-python",
   "name": "python",
   "nbconvert_exporter": "python",
   "pygments_lexer": "ipython3",
   "version": "3.8.10"
  }
 },
 "nbformat": 4,
 "nbformat_minor": 5
}
